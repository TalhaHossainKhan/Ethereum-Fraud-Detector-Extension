{
 "cells": [
  {
   "cell_type": "code",
   "execution_count": 62,
   "id": "fae24034",
   "metadata": {
    "scrolled": true
   },
   "outputs": [],
   "source": [
    "import pandas as pd\n",
    "import numpy as np\n",
    "import seaborn as sb\n",
    "import matplotlib.pyplot as plt\n",
    "from nltk.tokenize import RegexpTokenizer\n",
    "import nltk\n",
    "from nltk.stem import WordNetLemmatizer\n",
    "from sklearn.feature_extraction.text import TfidfVectorizer\n",
    "from sklearn.model_selection import train_test_split\n",
    "from sklearn.svm import LinearSVC\n",
    "import pickle\n",
    "\n",
    "# Read the CSV file\n",
    "df = pd.read_csv(\"phishing_site_urls.csv\")\n",
    "\n",
    "# Remove duplicate URLs\n",
    "df.drop_duplicates(subset='URL', inplace=True)\n",
    "df.reset_index(drop=True, inplace=True)\n",
    "\n",
    "# Tokenize and lemmatize the URLs\n",
    "tokenizer = RegexpTokenizer(r'[A-Za-z0-9]+')\n",
    "df['clean_url'] = df['URL'].apply(lambda x: tokenizer.tokenize(str(x)))\n",
    "lemmatizer = WordNetLemmatizer()\n",
    "df['lem_url'] = df['clean_url'].apply(lambda x: [lemmatizer.lemmatize(word) for word in x])\n",
    "\n",
    "# Convert text to feature vectors\n",
    "word_vectorizer = TfidfVectorizer(ngram_range=(1, 1), max_features=1000, binary=True)\n",
    "unigram_data = word_vectorizer.fit_transform(df['lem_url'].apply(lambda x: ' '.join(x)))\n",
    "vocab = word_vectorizer.get_feature_names_out()\n",
    "x = pd.DataFrame.sparse.from_spmatrix(unigram_data, columns=vocab)\n",
    "\n",
    "# Convert labels to numerical values\n",
    "df['Label'] = np.where(df['Label'] == 'bad', 0, 1)\n",
    "y = df['Label']\n",
    "\n",
    "# Split the data into training and testing sets\n",
    "x_train, x_test, y_train, y_test = train_test_split(x, y, random_state=42, test_size=0.2, shuffle=True)\n",
    "\n",
    "# Train the LinearSVC model\n",
    "trained_clf_svc = LinearSVC().fit(x_train, y_train)\n",
    "\n",
    "# Save the trained model and vectorizer\n",
    "with open('url_model.pkl', 'wb') as f:\n",
    "    pickle.dump((trained_clf_svc, word_vectorizer), f)\n"
   ]
  },
  {
   "cell_type": "code",
   "execution_count": null,
   "id": "cee905cb",
   "metadata": {},
   "outputs": [],
   "source": []
  }
 ],
 "metadata": {
  "kernelspec": {
   "display_name": "Python 3 (ipykernel)",
   "language": "python",
   "name": "python3"
  },
  "language_info": {
   "codemirror_mode": {
    "name": "ipython",
    "version": 3
   },
   "file_extension": ".py",
   "mimetype": "text/x-python",
   "name": "python",
   "nbconvert_exporter": "python",
   "pygments_lexer": "ipython3",
   "version": "3.10.9"
  }
 },
 "nbformat": 4,
 "nbformat_minor": 5
}
