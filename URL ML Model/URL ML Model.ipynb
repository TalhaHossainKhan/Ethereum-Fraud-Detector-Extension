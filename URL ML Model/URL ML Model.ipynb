{
 "cells": [
  {
   "cell_type": "code",
   "execution_count": 8,
   "id": "fae24034",
   "metadata": {
    "scrolled": true
   },
   "outputs": [],
   "source": [
    "import pandas as pd\n",
    "import numpy as np\n",
    "from nltk.tokenize import RegexpTokenizer\n",
    "from nltk.stem import WordNetLemmatizer\n",
    "from sklearn.feature_extraction.text import TfidfVectorizer\n",
    "from sklearn.model_selection import train_test_split\n",
    "from sklearn.svm import LinearSVC\n",
    "import pickle\n",
    "\n",
    "# Read the CSV file and remove duplicates\n",
    "df = pd.read_csv(\"phishing_site_urls.csv\")\n",
    "df.drop_duplicates(subset='URL', inplace=True)\n",
    "\n",
    "# Tokenize and lemmatize the URLs\n",
    "tokenizer = RegexpTokenizer(r'[A-Za-z0-9]+')\n",
    "lemmatizer = WordNetLemmatizer()\n",
    "\n",
    "def process_url(url):\n",
    "    tokens = tokenizer.tokenize(str(url))\n",
    "    return ' '.join([lemmatizer.lemmatize(word) for word in tokens])\n",
    "\n",
    "df['processed_url'] = df['URL'].apply(process_url)\n",
    "\n",
    "# Convert text to feature vectors\n",
    "word_vectorizer = TfidfVectorizer(ngram_range=(1, 1), max_features=1000, binary=True)\n",
    "X = word_vectorizer.fit_transform(df['processed_url'])\n",
    "\n",
    "# Convert labels to numerical values\n",
    "y = np.where(df['Label'] == 'bad', 0, 1)\n",
    "\n",
    "# Split the data and train the model\n",
    "X_train, X_test, y_train, y_test = train_test_split(X, y, test_size=0.2, random_state=42)\n",
    "model = LinearSVC(dual=False).fit(X_train, y_train)\n",
    "\n",
    "# Save the trained model and vectorizer\n",
    "with open('url_model.pkl', 'wb') as f:\n",
    "    pickle.dump((model, word_vectorizer), f)"
   ]
  },
  {
   "cell_type": "code",
   "execution_count": null,
   "id": "1bafdcce-d36a-4591-af6d-5a6ca60c6d16",
   "metadata": {},
   "outputs": [],
   "source": []
  }
 ],
 "metadata": {
  "kernelspec": {
   "display_name": "Python 3 (ipykernel)",
   "language": "python",
   "name": "python3"
  },
  "language_info": {
   "codemirror_mode": {
    "name": "ipython",
    "version": 3
   },
   "file_extension": ".py",
   "mimetype": "text/x-python",
   "name": "python",
   "nbconvert_exporter": "python",
   "pygments_lexer": "ipython3",
   "version": "3.12.4"
  }
 },
 "nbformat": 4,
 "nbformat_minor": 5
}
